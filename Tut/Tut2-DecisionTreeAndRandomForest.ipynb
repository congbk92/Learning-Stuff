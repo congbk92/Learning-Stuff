{
 "cells": [
  {
   "cell_type": "code",
   "execution_count": null,
   "metadata": {},
   "outputs": [],
   "source": [
    "#Decision Tree"
   ]
  },
  {
   "cell_type": "code",
   "execution_count": 6,
   "metadata": {},
   "outputs": [
    {
     "name": "stdout",
     "output_type": "stream",
     "text": [
      "                   pre       rec       spe        f1       geo       iba       sup\n",
      "\n",
      "          0       1.00      1.00      1.00      1.00      1.00      1.00        25\n",
      "          1       0.81      1.00      0.88      0.89      0.94      0.89        25\n",
      "          2       1.00      0.76      1.00      0.86      0.87      0.74        25\n",
      "\n",
      "avg / total       0.94      0.92      0.96      0.92      0.94      0.88        75\n",
      "\n",
      "Decision Tree:  0.92\n"
     ]
    }
   ],
   "source": [
    "from sklearn.datasets import load_iris\n",
    "from sklearn import tree\n",
    "import pandas as pd\n",
    "from sklearn import metrics\n",
    "from sklearn.model_selection import train_test_split\n",
    "from imblearn.metrics import classification_report_imbalanced\n",
    "\n",
    "iris = load_iris()\n",
    "df = pd.DataFrame(iris.data, columns=iris.feature_names)\n",
    "X_train, X_test, y_train, y_test = train_test_split(df[iris.feature_names],\n",
    "iris.target, test_size=0.5, stratify=iris.target, random_state=123456)\n",
    "dt = tree.DecisionTreeClassifier(max_depth=5)\n",
    "dt.fit(X_train, y_train)\n",
    "predicted = dt.predict(X_test)\n",
    "accuracy = metrics.f1_score(y_test, predicted,average='micro')\n",
    "print(classification_report_imbalanced(y_test, predicted))\n",
    "print('Decision Tree: ',accuracy)"
   ]
  },
  {
   "cell_type": "code",
   "execution_count": 7,
   "metadata": {},
   "outputs": [],
   "source": [
    "#Random Forest"
   ]
  },
  {
   "cell_type": "code",
   "execution_count": 5,
   "metadata": {},
   "outputs": [
    {
     "name": "stdout",
     "output_type": "stream",
     "text": [
      "                   pre       rec       spe        f1       geo       iba       sup\n",
      "\n",
      "          0       1.00      1.00      1.00      1.00      1.00      1.00        25\n",
      "          1       0.83      1.00      0.90      0.91      0.95      0.91        25\n",
      "          2       1.00      0.80      1.00      0.89      0.89      0.78        25\n",
      "\n",
      "avg / total       0.94      0.93      0.97      0.93      0.95      0.90        75\n",
      "\n",
      "Random Forest:  0.9333333333333333\n"
     ]
    }
   ],
   "source": [
    "from sklearn.ensemble import RandomForestClassifier\n",
    "rf = RandomForestClassifier(n_estimators=100, oob_score=True,\n",
    "                            random_state=123456)\n",
    "rf.fit(X_train, y_train)\n",
    "predicted = rf.predict(X_test)\n",
    "accuracy = metrics.f1_score(y_test, predicted,average='micro')\n",
    "print(classification_report_imbalanced(y_test, predicted))\n",
    "print('Random Forest: ',accuracy)"
   ]
  },
  {
   "cell_type": "code",
   "execution_count": null,
   "metadata": {},
   "outputs": [],
   "source": []
  }
 ],
 "metadata": {
  "kernelspec": {
   "display_name": "Python 3",
   "language": "python",
   "name": "python3"
  },
  "language_info": {
   "codemirror_mode": {
    "name": "ipython",
    "version": 3
   },
   "file_extension": ".py",
   "mimetype": "text/x-python",
   "name": "python",
   "nbconvert_exporter": "python",
   "pygments_lexer": "ipython3",
   "version": "3.7.1"
  }
 },
 "nbformat": 4,
 "nbformat_minor": 2
}
